{
    "cells": [
        {
            "cell_type": "code",
            "execution_count": 3,
            "source": [
                "import datetime\r\n",
                "datetime.datetime(2020, 12, 18, 0, 0).now().strftime(\"%Y-%m-%d %H:%M:%S\")"
            ],
            "outputs": [
                {
                    "output_type": "execute_result",
                    "data": {
                        "text/plain": [
                            "'2021-07-17 02:46:27'"
                        ]
                    },
                    "metadata": {},
                    "execution_count": 3
                }
            ],
            "metadata": {}
        }
    ],
    "metadata": {
        "orig_nbformat": 4,
        "language_info": {
            "name": "python"
        }
    },
    "nbformat": 4,
    "nbformat_minor": 2
}